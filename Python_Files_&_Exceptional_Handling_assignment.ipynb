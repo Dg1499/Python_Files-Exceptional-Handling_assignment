{
  "nbformat": 4,
  "nbformat_minor": 0,
  "metadata": {
    "colab": {
      "provenance": []
    },
    "kernelspec": {
      "name": "python3",
      "display_name": "Python 3"
    },
    "language_info": {
      "name": "python"
    }
  },
  "cells": [
    {
      "cell_type": "markdown",
      "source": [
        "**Q.1. Discuss the scenarios where multithreading is preferable to multiprocessing and scenarios where multiprocessing is a better choice.**"
      ],
      "metadata": {
        "id": "oOagPsv_6rxN"
      }
    },
    {
      "cell_type": "markdown",
      "source": [
        "Multithreading-->Creates multiple threads within a single process to execute different parts of a program.\n",
        "\n",
        "Multiprocessing-->Creates multiple processes to execute different parts of a program.\n",
        "\n",
        "When to Use Multithreading-->\n",
        "\n",
        "1.When the program spends its time for input/output operations (e.g., reading from a file) threads can efficiently handle these tasks while waiting for I/O, allowing other threads to proceed.\n",
        "\n",
        "2.For relatively simple tasks that can be divided into a few parallel subtasks, which can provide a performance boost.\n",
        "\n",
        "When to Use Multiprocessing-->\n",
        "\n",
        "1.For tasks that heavily utilize the CPU (e.g., complex calculations, scientific simulations), multiprocessing can distribute the workload across multiple processes.\n",
        "\n",
        "2.For very large-scale parallel processing, multiprocessing can handle a larger number of concurrent tasks.\n"
      ],
      "metadata": {
        "id": "10ReQcSu7zdf"
      }
    },
    {
      "cell_type": "markdown",
      "source": [
        "**Q.2. Describe what a process pool is and how it helps in managing multiple processes efficiently.**"
      ],
      "metadata": {
        "id": "1uXpCVbY8W1t"
      }
    },
    {
      "cell_type": "markdown",
      "source": [
        "A process pool is a mechanism that creates and manages a pool of pre-spawned processes, ready to be reused for executing tasks.\n",
        "\n",
        "How Process Pools Work\n",
        "\n",
        "Initialization: A process pool is typically created with a specified size, determining the maximum number of processes it can manage.\n",
        "\n",
        "Process Creation: The pool pre-spawns a set of processes, keeping them idle until needed.\n",
        "\n",
        "Task Submission: When a task needs to be executed, it is submitted to the process pool.\n",
        "\n",
        "Process Assignment: The pool assigns the task to an available process. If all processes are busy, the task may be queued or rejected, depending on the pool's configuration.\n",
        "\n",
        "Task Execution: The assigned process executes the task.\n",
        "\n",
        "Process Reuse: Once the task is completed, the process is returned to the pool to be reused for another task."
      ],
      "metadata": {
        "id": "q3EN4-398kjG"
      }
    },
    {
      "cell_type": "markdown",
      "source": [
        "**Q.3. Explain what multiprocessing is and why it is used in Python programs.**"
      ],
      "metadata": {
        "id": "fapGM8Wt9PI_"
      }
    },
    {
      "cell_type": "markdown",
      "source": [
        "Multiprocessing is a technique in programming that allows multiple processes to run concurrently, executing different parts of a program simultaneously. Each process has its own memory space, which helps to avoid conflicts and ensures isolation between tasks.\n",
        "\n",
        "Use Cases\n",
        "\n",
        "Data processing: For large-scale data processing tasks, multiprocessing can distribute the workload across multiple processes to improve performance.\n",
        "\n",
        "Scientific computing: Simulations, numerical calculations, and other computationally intensive tasks can benefit from multiprocessing.\n",
        "\n",
        "Web applications: Multiprocessing can be used to handle multiple client requests concurrently in web applications.\n",
        "\n",
        "Parallel programming: For tasks that can be naturally divided into parallel subtasks, multiprocessing provides a convenient way to implement parallel algorithms."
      ],
      "metadata": {
        "id": "KAM4eyN99SfX"
      }
    },
    {
      "cell_type": "markdown",
      "source": [
        "**Q.4. Write a Python program using multithreading where one thread adds numbers to a list, and another thread removes numbers from the list. Implement a mechanism to avoid race conditions using\n",
        "threading.Lock.**"
      ],
      "metadata": {
        "id": "hoZbXW4E-jlP"
      }
    },
    {
      "cell_type": "code",
      "source": [
        "import threading\n",
        "import time\n",
        "\n",
        "def add_to_list(numbers, lock):\n",
        "    for i in range(10):\n",
        "        with lock:\n",
        "            numbers.append(i)\n",
        "        time.sleep(0.1)\n",
        "\n",
        "def remove_from_list(numbers, lock):\n",
        "    while len(numbers) > 0:\n",
        "        with lock:\n",
        "            numbers.pop()\n",
        "        time.sleep(0.1)\n",
        "\n",
        "if __name__ == \"__main__\":\n",
        "    numbers = []\n",
        "    lock = threading.Lock()\n",
        "\n",
        "    thread1 = threading.Thread(target=add_to_list, args=(numbers, lock))\n",
        "    thread2 = threading.Thread(target=remove_from_list, args=(numbers, lock))\n",
        "\n",
        "    thread1.start()\n",
        "    thread2.start()\n",
        "\n",
        "    thread1.join()\n",
        "    thread2.join()\n",
        "\n",
        "    print(numbers)"
      ],
      "metadata": {
        "colab": {
          "base_uri": "https://localhost:8080/"
        },
        "id": "_EnIDDTc_c6l",
        "outputId": "37ff62d1-ff59-4254-8368-aa8aed8e3445"
      },
      "execution_count": 1,
      "outputs": [
        {
          "output_type": "stream",
          "name": "stdout",
          "text": [
            "[9]\n"
          ]
        }
      ]
    },
    {
      "cell_type": "markdown",
      "source": [
        "**Q.5. Describe the methods and tools available in Python for safely sharing data between threads and processes.**"
      ],
      "metadata": {
        "id": "F_h8fjmLACnD"
      }
    },
    {
      "cell_type": "markdown",
      "source": [
        "Sharing Data Between Threads\n",
        "\n",
        "Shared Memory:\n",
        "\n",
        "multiprocessing.Value and multiprocessing.Array:\n",
        "\n",
        "These classes provide a way to share primitive data types (integers, floats, etc.) and arrays between processes.\n",
        "\n",
        "ctypes:\n",
        "\n",
        "This module allows for direct manipulation of shared memory segments.\n",
        "\n",
        "\n",
        "Queue:\n",
        "\n",
        "queue.Queue:\n",
        "\n",
        "This class provides a thread-safe queue for communication between threads. It can be used to pass data between threads in a FIFO manner.\n",
        "\n",
        "Sharing Data Between Processes\n",
        "\n",
        "Pipes:\n",
        "\n",
        "os.pipe():\n",
        "\n",
        "This function creates a pair of pipes for communication between processes. Data is sent through one pipe and received through the other.\n",
        "\n",
        "multiprocessing.Pipe():\n",
        "\n",
        "This class provides a more convenient way to create pipes and handles the underlying file descriptors.\n",
        "\n",
        "Queues:\n",
        "\n",
        "multiprocessing.Queue:\n",
        "\n",
        "This class is similar to queue.Queue but is designed for inter-process communication.\n",
        "\n",
        "Shared Memory:\n",
        "\n",
        "As mentioned above, multiprocessing.Value, multiprocessing.Array, and ctypes can be used to share data between processes."
      ],
      "metadata": {
        "id": "YGgqHeEnAPI9"
      }
    },
    {
      "cell_type": "markdown",
      "source": [
        "**Q. Discuss why it’s crucial to handle exceptions in concurrent programs and the techniques available for doing so.**"
      ],
      "metadata": {
        "id": "zc-u4DOMBY6w"
      }
    },
    {
      "cell_type": "markdown",
      "source": [
        "Why Handling Exceptions is Crucial in Concurrent Programs:\n",
        "\n",
        "Preventing Program Crashes: Unhandled exceptions can lead to program crashes, especially in concurrent environments where multiple tasks are running simultaneously.\n",
        "\n",
        "Maintaining Data Integrity: Proper exception handling ensures that data is not corrupted or lost in case of errors.\n",
        "\n",
        "Ensuring Correct Program Behavior: Exceptions can be used to signal errors or unexpected conditions, allowing the program to take appropriate actions and maintain its intended behavior.\n",
        "\n",
        "Improving Code Reliability: Handling exceptions can make concurrent programs more robust and less prone to failures.\n",
        "\n",
        "Techniques for Handling Exceptions in Concurrent Programs:\n",
        "\n",
        "Try-Except Blocks:\n",
        "\n",
        "Use try-except blocks to catch and handle exceptions that may occur within a block of code.\n",
        "Consider using finally blocks to ensure that cleanup operations (e.g., releasing resources) are performed regardless of whether an exception is raised.\n",
        "Context Managers:\n",
        "\n",
        "Use context managers (e.g., with statements) to automatically acquire and release resources, ensuring proper cleanup even in the presence of exceptions.\n",
        "This can help prevent resource leaks and improve code readability.\n",
        "\n",
        "Exception Propagation:\n",
        "\n",
        "Allow exceptions to propagate up the call stack until they are caught and handled.\n",
        "This can simplify error handling and make it easier to identify the root cause of problems.\n",
        "\n",
        "Exception Logging:\n",
        "\n",
        "Log exceptions to a file or console to help with debugging and troubleshooting.\n",
        "Include relevant information such as the exception type, message, and traceback.\n",
        "\n",
        "Thread-Specific Exception Handlers:\n",
        "\n",
        "In some cases, it may be necessary to handle exceptions differently for different threads.\n",
        "This can be achieved by using thread-specific exception handlers or by passing context information to exception handlers.\n",
        "\n",
        "Consider Concurrency-Specific Exceptions:\n",
        "\n",
        "Some libraries or frameworks provide specific exceptions for concurrency-related issues (e.g., DeadlockError, TimeoutError).\n",
        "Handle these exceptions appropriately to avoid unexpected behavior."
      ],
      "metadata": {
        "id": "4sSB6LkLBbk4"
      }
    },
    {
      "cell_type": "code",
      "source": [
        "import threading\n",
        "\n",
        "def worker(queue, lock):\n",
        "    try:\n",
        "        while True:\n",
        "            with lock:\n",
        "                item = queue.get()\n",
        "                if item is None:\n",
        "                    break\n",
        "    except Exception as e:\n",
        "        print(f\"Error in worker thread: {e}\")\n",
        "#In this example, a try-except block is used to catch exceptions that might\n",
        "#occur within the worker thread. The exception is then logged to the console."
      ],
      "metadata": {
        "id": "WaayNBEYAGcb"
      },
      "execution_count": 2,
      "outputs": []
    },
    {
      "cell_type": "markdown",
      "source": [
        "**Q.7. Create a program that uses a thread pool to calculate the factorial of numbers from 1 to 10 concurrently. Use concurrent.futures.ThreadPoolExecutor to manage the threads.**"
      ],
      "metadata": {
        "id": "FGXtd9n5CfiO"
      }
    },
    {
      "cell_type": "code",
      "source": [
        "import concurrent.futures\n",
        "import time\n",
        "\n",
        "def factorial(n):\n",
        "    if n == 0 or n == 1:\n",
        "        return 1\n",
        "    else:\n",
        "        return n * factorial(n - 1)\n",
        "\n",
        "def main():\n",
        "    with concurrent.futures.ThreadPoolExecutor(max_workers=4) as executor:\n",
        "        futures = [executor.submit(factorial, i) for i in range(1, 11)]\n",
        "        for future in concurrent.futures.as_completed(futures):\n",
        "            result = future.result()\n",
        "            print(f\"Factorial of {future.result()} is {result}\")\n",
        "\n",
        "if __name__ == \"__main__\":\n",
        "    start_time = time.time()\n",
        "    main()\n",
        "    end_time = time.time()\n",
        "    print(f\"Total time: {end_time - start_time} seconds\")"
      ],
      "metadata": {
        "colab": {
          "base_uri": "https://localhost:8080/"
        },
        "id": "DXQOEpijCey3",
        "outputId": "744cfde9-d97b-4287-9077-cc1648597b2c"
      },
      "execution_count": 5,
      "outputs": [
        {
          "output_type": "stream",
          "name": "stdout",
          "text": [
            "Factorial of 5040 is 5040\n",
            "Factorial of 120 is 120\n",
            "Factorial of 40320 is 40320\n",
            "Factorial of 24 is 24\n",
            "Factorial of 3628800 is 3628800\n",
            "Factorial of 362880 is 362880\n",
            "Factorial of 720 is 720\n",
            "Factorial of 6 is 6\n",
            "Factorial of 2 is 2\n",
            "Factorial of 1 is 1\n",
            "Total time: 0.009881973266601562 seconds\n"
          ]
        }
      ]
    },
    {
      "cell_type": "markdown",
      "source": [
        "**Q.8. Create a Python program that uses multiprocessing.Pool to compute the square of numbers from 1 to 10 in parallel. Measure the time taken to perform this computation using a pool of different sizes (e.g., 2, 4, 8 processes).**"
      ],
      "metadata": {
        "id": "cFzrz1qHDHnz"
      }
    },
    {
      "cell_type": "code",
      "source": [
        "import multiprocessing\n",
        "import time\n",
        "\n",
        "def square(n):\n",
        "    return n * n\n",
        "\n",
        "def main(num_processes):\n",
        "    with multiprocessing.Pool(processes=num_processes) as pool:\n",
        "        start_time = time.time()\n",
        "        results = pool.map(square, range(1, 11))\n",
        "        end_time = time.time()\n",
        "        print(f\"Using {num_processes} processes, time taken: {end_time - start_time:.5f} seconds\")\n",
        "        return results\n",
        "\n",
        "if __name__ == \"__main__\":\n",
        "    for num_processes in [2, 4, 8]:\n",
        "        results = main(num_processes)\n",
        "        print(\"Results:\", results)"
      ],
      "metadata": {
        "colab": {
          "base_uri": "https://localhost:8080/"
        },
        "id": "3dnlAD2k_oXG",
        "outputId": "99ce3109-87eb-4ba3-b8c4-24106f655d73"
      },
      "execution_count": 6,
      "outputs": [
        {
          "output_type": "stream",
          "name": "stdout",
          "text": [
            "Using 2 processes, time taken: 0.00254 seconds\n",
            "Results: [1, 4, 9, 16, 25, 36, 49, 64, 81, 100]\n",
            "Using 4 processes, time taken: 0.00243 seconds\n",
            "Results: [1, 4, 9, 16, 25, 36, 49, 64, 81, 100]\n",
            "Using 8 processes, time taken: 0.00289 seconds\n",
            "Results: [1, 4, 9, 16, 25, 36, 49, 64, 81, 100]\n"
          ]
        }
      ]
    }
  ]
}